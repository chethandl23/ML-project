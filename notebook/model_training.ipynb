{
 "cells": [
  {
   "cell_type": "markdown",
   "id": "3afda87f",
   "metadata": {},
   "source": [
    " ## <center>Model Training ##\n",
    " ---"
   ]
  },
  {
   "cell_type": "code",
   "execution_count": 4,
   "id": "ee6f7a4a",
   "metadata": {},
   "outputs": [],
   "source": [
    "import numpy as np\n",
    "import pandas as pd\n",
    "import seaborn as sns\n",
    "import matplotlib.pyplot as plt\n",
    "from sklearn.metrics import mean_squared_error, r2_score, mean_absolute_error\n",
    "from sklearn.neighbors import KNeighborsRegressor\n",
    "from sklearn.tree import DecisionTreeRegressor\n",
    "from sklearn.ensemble import RandomForestRegressor, GradientBoostingRegressor,AdaBoostRegressor\n",
    "from sklearn.svm import SVR\n",
    "from sklearn.linear_model import LinearRegression,Ridge,Lasso\n",
    "import warnings\n",
    "warnings.filterwarnings(\"ignore\")"
   ]
  },
  {
   "cell_type": "code",
   "execution_count": 6,
   "id": "56636855",
   "metadata": {},
   "outputs": [
    {
     "data": {
      "text/html": [
       "<div>\n",
       "<style scoped>\n",
       "    .dataframe tbody tr th:only-of-type {\n",
       "        vertical-align: middle;\n",
       "    }\n",
       "\n",
       "    .dataframe tbody tr th {\n",
       "        vertical-align: top;\n",
       "    }\n",
       "\n",
       "    .dataframe thead th {\n",
       "        text-align: right;\n",
       "    }\n",
       "</style>\n",
       "<table border=\"1\" class=\"dataframe\">\n",
       "  <thead>\n",
       "    <tr style=\"text-align: right;\">\n",
       "      <th></th>\n",
       "      <th>gender</th>\n",
       "      <th>race_ethnicity</th>\n",
       "      <th>parental_level_of_education</th>\n",
       "      <th>lunch</th>\n",
       "      <th>test_preparation_course</th>\n",
       "      <th>math_score</th>\n",
       "      <th>reading_score</th>\n",
       "      <th>writing_score</th>\n",
       "    </tr>\n",
       "  </thead>\n",
       "  <tbody>\n",
       "    <tr>\n",
       "      <th>0</th>\n",
       "      <td>female</td>\n",
       "      <td>group B</td>\n",
       "      <td>bachelor's degree</td>\n",
       "      <td>standard</td>\n",
       "      <td>none</td>\n",
       "      <td>72</td>\n",
       "      <td>72</td>\n",
       "      <td>74</td>\n",
       "    </tr>\n",
       "    <tr>\n",
       "      <th>1</th>\n",
       "      <td>female</td>\n",
       "      <td>group C</td>\n",
       "      <td>some college</td>\n",
       "      <td>standard</td>\n",
       "      <td>completed</td>\n",
       "      <td>69</td>\n",
       "      <td>90</td>\n",
       "      <td>88</td>\n",
       "    </tr>\n",
       "    <tr>\n",
       "      <th>2</th>\n",
       "      <td>female</td>\n",
       "      <td>group B</td>\n",
       "      <td>master's degree</td>\n",
       "      <td>standard</td>\n",
       "      <td>none</td>\n",
       "      <td>90</td>\n",
       "      <td>95</td>\n",
       "      <td>93</td>\n",
       "    </tr>\n",
       "    <tr>\n",
       "      <th>3</th>\n",
       "      <td>male</td>\n",
       "      <td>group A</td>\n",
       "      <td>associate's degree</td>\n",
       "      <td>free/reduced</td>\n",
       "      <td>none</td>\n",
       "      <td>47</td>\n",
       "      <td>57</td>\n",
       "      <td>44</td>\n",
       "    </tr>\n",
       "    <tr>\n",
       "      <th>4</th>\n",
       "      <td>male</td>\n",
       "      <td>group C</td>\n",
       "      <td>some college</td>\n",
       "      <td>standard</td>\n",
       "      <td>none</td>\n",
       "      <td>76</td>\n",
       "      <td>78</td>\n",
       "      <td>75</td>\n",
       "    </tr>\n",
       "  </tbody>\n",
       "</table>\n",
       "</div>"
      ],
      "text/plain": [
       "   gender race_ethnicity parental_level_of_education         lunch  \\\n",
       "0  female        group B           bachelor's degree      standard   \n",
       "1  female        group C                some college      standard   \n",
       "2  female        group B             master's degree      standard   \n",
       "3    male        group A          associate's degree  free/reduced   \n",
       "4    male        group C                some college      standard   \n",
       "\n",
       "  test_preparation_course  math_score  reading_score  writing_score  \n",
       "0                    none          72             72             74  \n",
       "1               completed          69             90             88  \n",
       "2                    none          90             95             93  \n",
       "3                    none          47             57             44  \n",
       "4                    none          76             78             75  "
      ]
     },
     "execution_count": 6,
     "metadata": {},
     "output_type": "execute_result"
    }
   ],
   "source": [
    "df = pd.read_csv(r\"C:\\ML_project1\\notebook\\data\\student.csv\")\n",
    "df.head()"
   ]
  },
  {
   "cell_type": "markdown",
   "id": "2ef7b96a",
   "metadata": {},
   "source": [
    "#### we will predict the math score"
   ]
  },
  {
   "cell_type": "code",
   "execution_count": 7,
   "id": "70ef310b",
   "metadata": {},
   "outputs": [],
   "source": [
    "X = df.drop(columns=['math_score'])\n",
    "y = df['math_score']"
   ]
  },
  {
   "cell_type": "code",
   "execution_count": 9,
   "id": "dde7f0a6",
   "metadata": {},
   "outputs": [],
   "source": [
    "num_features = X.select_dtypes(include=[np.number]).columns\n",
    "cat_features = X.select_dtypes(exclude=[np.number]).columns\n",
    "\n",
    "from sklearn.preprocessing import OneHotEncoder, StandardScaler\n",
    "from sklearn.compose import ColumnTransformer\n",
    "\n",
    "numeric_transformer = StandardScaler()\n",
    "categorical_transformer = OneHotEncoder(handle_unknown='ignore')\n",
    "\n",
    "preprocessor = ColumnTransformer(\n",
    "    transformers=[\n",
    "        ('num', numeric_transformer, num_features),\n",
    "        ('cat', categorical_transformer, cat_features)\n",
    "    ])\n"
   ]
  },
  {
   "cell_type": "code",
   "execution_count": 12,
   "id": "f5ef1292",
   "metadata": {},
   "outputs": [
    {
     "data": {
      "text/plain": [
       "(1000, 19)"
      ]
     },
     "execution_count": 12,
     "metadata": {},
     "output_type": "execute_result"
    }
   ],
   "source": [
    "X_transformed = preprocessor.fit_transform(X)\n",
    "X_transformed.shape\n"
   ]
  },
  {
   "cell_type": "code",
   "execution_count": 14,
   "id": "c96128d9",
   "metadata": {},
   "outputs": [],
   "source": [
    "from sklearn.model_selection import train_test_split\n",
    "X_train , X_test , y_train , y_test = train_test_split(X_transformed, y, test_size=0.2, random_state=42)\n"
   ]
  },
  {
   "cell_type": "code",
   "execution_count": 15,
   "id": "be90beea",
   "metadata": {},
   "outputs": [],
   "source": [
    "def evaluate_model(true,predicted):\n",
    "    mae = mean_absolute_error(true,predicted)\n",
    "    print(f\"Mean Absolute Error: {mae}\")\n",
    "    mse = mean_squared_error(true,predicted)\n",
    "    print(f\"Mean Squared Error: {mse}\")\n",
    "    r2 = r2_score(true,predicted)\n",
    "    print(f\"R^2 Score: {r2}\")\n"
   ]
  },
  {
   "cell_type": "code",
   "execution_count": 18,
   "id": "609f3c43",
   "metadata": {},
   "outputs": [
    {
     "name": "stdout",
     "output_type": "stream",
     "text": [
      "Evaluation results for linear_regression:\n",
      "Mean Absolute Error: 4.214763142474851\n",
      "Mean Squared Error: 29.095169866715487\n",
      "R^2 Score: 0.8804332983749565\n",
      "\n",
      "\n",
      "\n",
      "Evaluation results for decision_tree:\n",
      "Mean Absolute Error: 6.3\n",
      "Mean Squared Error: 63.87\n",
      "R^2 Score: 0.7375260131569863\n",
      "\n",
      "\n",
      "\n",
      "Evaluation results for random_forest:\n",
      "Mean Absolute Error: 4.612025\n",
      "Mean Squared Error: 35.189087513888886\n",
      "R^2 Score: 0.8553903226375743\n",
      "\n",
      "\n",
      "\n",
      "Evaluation results for svm:\n",
      "Mean Absolute Error: 5.4015392444969965\n",
      "Mean Squared Error: 66.04200493745648\n",
      "R^2 Score: 0.7286001513223705\n",
      "\n",
      "\n",
      "\n",
      "Evaluation results for knn:\n",
      "Mean Absolute Error: 5.631\n",
      "Mean Squared Error: 52.661\n",
      "R^2 Score: 0.7835894375897926\n",
      "\n",
      "\n",
      "\n",
      "Evaluation results for gradient_boosting:\n",
      "Mean Absolute Error: 4.307564153267947\n",
      "Mean Squared Error: 31.091214358431653\n",
      "R^2 Score: 0.8722305466032831\n",
      "\n",
      "\n",
      "\n",
      "Evaluation results for lasso:\n",
      "Mean Absolute Error: 5.157879138921817\n",
      "Mean Squared Error: 42.50633235127345\n",
      "R^2 Score: 0.825320079562973\n",
      "\n",
      "\n",
      "\n"
     ]
    }
   ],
   "source": [
    "models = {\n",
    "    'linear_regression': LinearRegression(),\n",
    "    'decision_tree': DecisionTreeRegressor(),\n",
    "    'random_forest': RandomForestRegressor(),\n",
    "    'svm': SVR(),\n",
    "    'knn': KNeighborsRegressor(),\n",
    "    'gradient_boosting': GradientBoostingRegressor(),\n",
    "    'lasso': Lasso()\n",
    "}\n",
    "r2_scores = {}\n",
    "for name, model in models.items():\n",
    "    model.fit(X_train, y_train)\n",
    "    preds = model.predict(X_test)\n",
    "    print(f\"Evaluation results for {name}:\")\n",
    "    evaluate_model(y_test, preds)\n",
    "    r2_scores[name] = r2_score(y_test, preds)\n",
    "    print(\"\\n\\n\")"
   ]
  },
  {
   "cell_type": "code",
   "execution_count": 20,
   "id": "12f84850",
   "metadata": {},
   "outputs": [
    {
     "name": "stdout",
     "output_type": "stream",
     "text": [
      "R^2 score for linear_regression: 0.8804332983749565\n",
      "R^2 score for decision_tree: 0.7375260131569863\n",
      "R^2 score for random_forest: 0.8553903226375743\n",
      "R^2 score for svm: 0.7286001513223705\n",
      "R^2 score for knn: 0.7835894375897926\n",
      "R^2 score for gradient_boosting: 0.8722305466032831\n",
      "R^2 score for lasso: 0.825320079562973\n"
     ]
    }
   ],
   "source": [
    "for name, score in r2_scores.items():\n",
    "    print(f\"R^2 score for {name}: {score}\")\n"
   ]
  },
  {
   "cell_type": "code",
   "execution_count": 26,
   "id": "76f4c334",
   "metadata": {},
   "outputs": [
    {
     "name": "stdout",
     "output_type": "stream",
     "text": [
      "Best parameters for linear_regression: {'copy_X': True, 'fit_intercept': True}\n",
      "Best parameters for gradient_boosting: {'learning_rate': 0.1, 'n_estimators': 100}\n"
     ]
    }
   ],
   "source": [
    "from sklearn.model_selection import GridSearchCV\n",
    "param_grid = {\n",
    "    'linear_regression':{\n",
    "        'fit_intercept': [True, False],\n",
    "        'copy_X': [True, False]\n",
    "    },\n",
    "    'gradient_boosting':{\n",
    "        'n_estimators': [100, 200],\n",
    "        'learning_rate': [0.01, 0.1, 0.2]\n",
    "    }\n",
    "}\n",
    "best_models = {}\n",
    "for name, model in models.items():\n",
    "    if name in param_grid:\n",
    "        grid_search = GridSearchCV(model, param_grid[name], cv=5, scoring='r2', n_jobs=-1)\n",
    "        grid_search.fit(X_train, y_train)\n",
    "        best_models[name] = grid_search.best_estimator_\n",
    "        print(f\"Best parameters for {name}: {grid_search.best_params_}\")\n",
    "\n"
   ]
  },
  {
   "cell_type": "code",
   "execution_count": 29,
   "id": "37c8d524",
   "metadata": {},
   "outputs": [
    {
     "name": "stdout",
     "output_type": "stream",
     "text": [
      "linear_regression -> R2: 0.8804, RMSE: 5.3940\n",
      "gradient_boosting -> R2: 0.8720, RMSE: 5.5800\n"
     ]
    }
   ],
   "source": [
    "from sklearn.metrics import r2_score, mean_squared_error\n",
    "\n",
    "for name, model in best_models.items():\n",
    "    y_pred = model.predict(X_test)\n",
    "    r2 = r2_score(y_test, y_pred)\n",
    "    mse = mean_squared_error(y_test, y_pred)\n",
    "    rmse = mse ** 0.5\n",
    "    print(f\"{name} -> R2: {r2:.4f}, RMSE: {rmse:.4f}\")"
   ]
  },
  {
   "cell_type": "code",
   "execution_count": 30,
   "id": "6c3e5402",
   "metadata": {},
   "outputs": [
    {
     "name": "stdout",
     "output_type": "stream",
     "text": [
      "linear_regression -> Train R²: 0.8743, Test R²: 0.8804\n",
      "gradient_boosting -> Train R²: 0.9050, Test R²: 0.8720\n"
     ]
    }
   ],
   "source": [
    "for name, model in best_models.items():\n",
    "    train_r2 = model.score(X_train, y_train)\n",
    "    test_r2 = model.score(X_test, y_test)\n",
    "    print(f\"{name} -> Train R²: {train_r2:.4f}, Test R²: {test_r2:.4f}\")\n"
   ]
  },
  {
   "cell_type": "markdown",
   "id": "630f4871",
   "metadata": {},
   "source": [
    "### After hyper parameter tuning the best model i can choose is linear regression madel ##"
   ]
  },
  {
   "cell_type": "code",
   "execution_count": null,
   "id": "b1451c1c",
   "metadata": {},
   "outputs": [],
   "source": []
  }
 ],
 "metadata": {
  "kernelspec": {
   "display_name": "venv (3.12.4)",
   "language": "python",
   "name": "python3"
  },
  "language_info": {
   "name": "python",
   "version": "3.12.4"
  }
 },
 "nbformat": 4,
 "nbformat_minor": 5
}
